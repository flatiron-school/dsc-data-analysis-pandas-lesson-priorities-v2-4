{
 "cells": [
  {
   "cell_type": "markdown",
   "metadata": {},
   "source": [
    "## Topic 4 Lesson Priorities\n",
    "### 1st Priority\n",
    "\n",
    "If you are short on time, be sure to make it through these items:\n",
    "- Introducing Python Libraries\n",
    "- Accessing Data within Pandas\n",
    "- Importing Data Using Pandas\n",
    "- Statistical Methods in Pandas\n",
    "- EDA with Pandas - Cumulative Lab\n",
    "> Note: If you can't yet see the cumulative lab, don't worry.  It may not be visible until a pair programming session led by your instructor."
   ]
  },
  {
   "cell_type": "markdown",
   "metadata": {},
   "source": [
    "### 2nd Priority\n",
    "- Accessing Data within Pandas - Lab\n",
    "- Importing Data Using Pandas - Lab\n",
    "- Understanding Pandas Series and DataFrames\n",
    "> The item above introduces the `map` function, as well as `rename` to change column names.  It also uses the `drop` method, which will be covered in Topic 5.\n",
    "- Understanding Pandas Series and DataFrames - Lab\n",
    "- Statistical Methods in Pandas - Lab"
   ]
  },
  {
   "cell_type": "markdown",
   "metadata": {},
   "source": [
    "# Appendix\n",
    "\n",
    "There are quite a few lessons in the Appendix to which will help develop your Pandas skills.  There is also a lesson which leads you through Kaggle registration. Take a moment to sign up for Kaggle to have access to a platform which hosts public datasets, competitions, and learning tools.\n",
    "\n",
    "While matplotlib will be the primary tool for plotting, Pandas objects also have plotting capabilities, which are covered in the Data Visualization with Pandas item.  You will also practice the subplot syntax.  This syntax will enable you to make figures with multiple plots, allowing one more level of visualization customization.\n",
    "\n",
    "Lastly, practice your Pandas data manipulation skills with a deep dive into Macbeth.  The `Analyzing Macbeth with Pandas` exercise will push your limits.\n",
    "\n"
   ]
  },
  {
   "cell_type": "markdown",
   "metadata": {},
   "source": [
    "## Note on Lesson Priorities\n",
    "\n",
    "The items in the topics are meant to be completed sequentially.  Lesson priorities are meant to help you zero in on the most important content if you are short on time.  That does not mean the items marked as 2nd Priority are not important to your development as a data scientist. Rather, it means that they do not **introduce** concepts that are essential to progressing through the Flatiron Data Science program. \n",
    "\n",
    "You will notice that many labs are marked are 2nd Priority.  Labs reinforce concepts which are introduced by prior items.  If you are short on time, your first priority should be to digest the concept where it has been introduced, then reinforce the concept in the lab when you have time.  "
   ]
  }
 ],
 "metadata": {
  "kernelspec": {
   "display_name": "learn-env",
   "language": "python",
   "name": "learn-env"
  },
  "language_info": {
   "codemirror_mode": {
    "name": "ipython",
    "version": 3
   },
   "file_extension": ".py",
   "mimetype": "text/x-python",
   "name": "python",
   "nbconvert_exporter": "python",
   "pygments_lexer": "ipython3",
   "version": "3.7.3"
  }
 },
 "nbformat": 4,
 "nbformat_minor": 4
}
